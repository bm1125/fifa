{
 "cells": [
  {
   "cell_type": "markdown",
   "metadata": {},
   "source": [
    "# Football prediction"
   ]
  },
  {
   "cell_type": "markdown",
   "metadata": {},
   "source": [
    "#### I will try to predict football outcomes by traning a neural network\n",
    "#### First, I will need to load a package I wrote. This allows me to easily download fixtures and from any league I chose"
   ]
  },
  {
   "cell_type": "code",
   "execution_count": 15,
   "metadata": {},
   "outputs": [],
   "source": [
    "import fifa\n",
    "import pandas as pd\n",
    "import numpy as np"
   ]
  },
  {
   "cell_type": "markdown",
   "metadata": {},
   "source": [
    "In order use the package I will have to first create my universe. A universe is just the a space where I will be able to add leagues to later"
   ]
  },
  {
   "cell_type": "code",
   "execution_count": 16,
   "metadata": {},
   "outputs": [],
   "source": [
    "my_df = fifa.SetUniverse()"
   ]
  },
  {
   "cell_type": "markdown",
   "metadata": {},
   "source": [
    "Now in order to find and add leagues I will use the `addLeagues` method. The method takes in up to four paremeters.\n",
    "First and mandatory is country, then I can chose to specify season (one at a time only), keyword for league name and \n",
    "negative keyword (Suppose I don't want any women leagues)"
   ]
  },
  {
   "cell_type": "code",
   "execution_count": 17,
   "metadata": {},
   "outputs": [
    {
     "name": "stdout",
     "output_type": "stream",
     "text": [
      "The following leagues has been found and added:\n",
      "\n",
      "30\tSpain\tPrimera Division\t2017\t2017-08-18\t2018-05-20\n",
      "64\tSpain\tPrimera Division\t2016\t2016-08-19\t2017-05-21\n",
      "87\tSpain\tPrimera Division\t2018\t2018-08-17\t2019-05-19\n",
      "730\tSpain\tPrimera Division\t2015\t2015-08-21\t2016-05-15\n",
      "731\tSpain\tPrimera Division\t2014\t2014-08-23\t2015-05-23\n",
      "732\tSpain\tPrimera Division\t2013\t2013-08-17\t2014-05-18\n",
      "733\tSpain\tPrimera Division\t2012\t2012-08-18\t2013-06-01\n",
      "734\tSpain\tPrimera Division\t2011\t2011-08-27\t2012-05-13\n",
      "735\tSpain\tPrimera Division\t2010\t2010-08-28\t2011-05-21\n",
      "775\tSpain\tPrimera Division\t2019\t2019-08-16\t2020-07-18\n"
     ]
    }
   ],
   "source": [
    "my_df.addLeagues(country = 'Spain', keyword = 'Primera Division', neg_key = 'Women')"
   ]
  },
  {
   "cell_type": "markdown",
   "metadata": {},
   "source": [
    "The columns are: league id (unique), country, name, season, season start, season end\n",
    "If I want to look at my leagues in a dataframe I can just type in `my_df.LeaguesDF()`"
   ]
  },
  {
   "cell_type": "code",
   "execution_count": 18,
   "metadata": {
    "scrolled": true
   },
   "outputs": [
    {
     "data": {
      "text/html": [
       "<div>\n",
       "<style scoped>\n",
       "    .dataframe tbody tr th:only-of-type {\n",
       "        vertical-align: middle;\n",
       "    }\n",
       "\n",
       "    .dataframe tbody tr th {\n",
       "        vertical-align: top;\n",
       "    }\n",
       "\n",
       "    .dataframe thead th {\n",
       "        text-align: right;\n",
       "    }\n",
       "</style>\n",
       "<table border=\"1\" class=\"dataframe\">\n",
       "  <thead>\n",
       "    <tr style=\"text-align: right;\">\n",
       "      <th></th>\n",
       "      <th>country</th>\n",
       "      <th>league</th>\n",
       "      <th>season</th>\n",
       "      <th>start</th>\n",
       "      <th>end</th>\n",
       "    </tr>\n",
       "  </thead>\n",
       "  <tbody>\n",
       "    <tr>\n",
       "      <th>30</th>\n",
       "      <td>Spain</td>\n",
       "      <td>Primera Division</td>\n",
       "      <td>2017</td>\n",
       "      <td>2017-08-18</td>\n",
       "      <td>2018-05-20</td>\n",
       "    </tr>\n",
       "    <tr>\n",
       "      <th>64</th>\n",
       "      <td>Spain</td>\n",
       "      <td>Primera Division</td>\n",
       "      <td>2016</td>\n",
       "      <td>2016-08-19</td>\n",
       "      <td>2017-05-21</td>\n",
       "    </tr>\n",
       "    <tr>\n",
       "      <th>87</th>\n",
       "      <td>Spain</td>\n",
       "      <td>Primera Division</td>\n",
       "      <td>2018</td>\n",
       "      <td>2018-08-17</td>\n",
       "      <td>2019-05-19</td>\n",
       "    </tr>\n",
       "    <tr>\n",
       "      <th>730</th>\n",
       "      <td>Spain</td>\n",
       "      <td>Primera Division</td>\n",
       "      <td>2015</td>\n",
       "      <td>2015-08-21</td>\n",
       "      <td>2016-05-15</td>\n",
       "    </tr>\n",
       "    <tr>\n",
       "      <th>731</th>\n",
       "      <td>Spain</td>\n",
       "      <td>Primera Division</td>\n",
       "      <td>2014</td>\n",
       "      <td>2014-08-23</td>\n",
       "      <td>2015-05-23</td>\n",
       "    </tr>\n",
       "    <tr>\n",
       "      <th>732</th>\n",
       "      <td>Spain</td>\n",
       "      <td>Primera Division</td>\n",
       "      <td>2013</td>\n",
       "      <td>2013-08-17</td>\n",
       "      <td>2014-05-18</td>\n",
       "    </tr>\n",
       "    <tr>\n",
       "      <th>733</th>\n",
       "      <td>Spain</td>\n",
       "      <td>Primera Division</td>\n",
       "      <td>2012</td>\n",
       "      <td>2012-08-18</td>\n",
       "      <td>2013-06-01</td>\n",
       "    </tr>\n",
       "    <tr>\n",
       "      <th>734</th>\n",
       "      <td>Spain</td>\n",
       "      <td>Primera Division</td>\n",
       "      <td>2011</td>\n",
       "      <td>2011-08-27</td>\n",
       "      <td>2012-05-13</td>\n",
       "    </tr>\n",
       "    <tr>\n",
       "      <th>735</th>\n",
       "      <td>Spain</td>\n",
       "      <td>Primera Division</td>\n",
       "      <td>2010</td>\n",
       "      <td>2010-08-28</td>\n",
       "      <td>2011-05-21</td>\n",
       "    </tr>\n",
       "    <tr>\n",
       "      <th>775</th>\n",
       "      <td>Spain</td>\n",
       "      <td>Primera Division</td>\n",
       "      <td>2019</td>\n",
       "      <td>2019-08-16</td>\n",
       "      <td>2020-07-18</td>\n",
       "    </tr>\n",
       "  </tbody>\n",
       "</table>\n",
       "</div>"
      ],
      "text/plain": [
       "    country            league  season       start         end\n",
       "30    Spain  Primera Division    2017  2017-08-18  2018-05-20\n",
       "64    Spain  Primera Division    2016  2016-08-19  2017-05-21\n",
       "87    Spain  Primera Division    2018  2018-08-17  2019-05-19\n",
       "730   Spain  Primera Division    2015  2015-08-21  2016-05-15\n",
       "731   Spain  Primera Division    2014  2014-08-23  2015-05-23\n",
       "732   Spain  Primera Division    2013  2013-08-17  2014-05-18\n",
       "733   Spain  Primera Division    2012  2012-08-18  2013-06-01\n",
       "734   Spain  Primera Division    2011  2011-08-27  2012-05-13\n",
       "735   Spain  Primera Division    2010  2010-08-28  2011-05-21\n",
       "775   Spain  Primera Division    2019  2019-08-16  2020-07-18"
      ]
     },
     "execution_count": 18,
     "metadata": {},
     "output_type": "execute_result"
    }
   ],
   "source": [
    "my_df.LeaguesDF()"
   ]
  },
  {
   "cell_type": "markdown",
   "metadata": {},
   "source": [
    "I can edit the universe and remove any leagues I don't want by just using the method `removeLeague`. This method can\n",
    "take more than one league id and it will remove it from my universe. Suppose I don't want any cup competitions so\n",
    "I can just use:"
   ]
  },
  {
   "cell_type": "code",
   "execution_count": 21,
   "metadata": {},
   "outputs": [
    {
     "data": {
      "text/html": [
       "<div>\n",
       "<style scoped>\n",
       "    .dataframe tbody tr th:only-of-type {\n",
       "        vertical-align: middle;\n",
       "    }\n",
       "\n",
       "    .dataframe tbody tr th {\n",
       "        vertical-align: top;\n",
       "    }\n",
       "\n",
       "    .dataframe thead th {\n",
       "        text-align: right;\n",
       "    }\n",
       "</style>\n",
       "<table border=\"1\" class=\"dataframe\">\n",
       "  <thead>\n",
       "    <tr style=\"text-align: right;\">\n",
       "      <th></th>\n",
       "      <th>country</th>\n",
       "      <th>league</th>\n",
       "      <th>season</th>\n",
       "      <th>start</th>\n",
       "      <th>end</th>\n",
       "    </tr>\n",
       "  </thead>\n",
       "  <tbody>\n",
       "    <tr>\n",
       "      <th>30</th>\n",
       "      <td>Spain</td>\n",
       "      <td>Primera Division</td>\n",
       "      <td>2017</td>\n",
       "      <td>2017-08-18</td>\n",
       "      <td>2018-05-20</td>\n",
       "    </tr>\n",
       "    <tr>\n",
       "      <th>87</th>\n",
       "      <td>Spain</td>\n",
       "      <td>Primera Division</td>\n",
       "      <td>2018</td>\n",
       "      <td>2018-08-17</td>\n",
       "      <td>2019-05-19</td>\n",
       "    </tr>\n",
       "    <tr>\n",
       "      <th>775</th>\n",
       "      <td>Spain</td>\n",
       "      <td>Primera Division</td>\n",
       "      <td>2019</td>\n",
       "      <td>2019-08-16</td>\n",
       "      <td>2020-07-18</td>\n",
       "    </tr>\n",
       "  </tbody>\n",
       "</table>\n",
       "</div>"
      ],
      "text/plain": [
       "    country            league  season       start         end\n",
       "30    Spain  Primera Division    2017  2017-08-18  2018-05-20\n",
       "87    Spain  Primera Division    2018  2018-08-17  2019-05-19\n",
       "775   Spain  Primera Division    2019  2019-08-16  2020-07-18"
      ]
     },
     "execution_count": 21,
     "metadata": {},
     "output_type": "execute_result"
    }
   ],
   "source": [
    "my_df.removeLeague(735,734,733,732,731,730,64)\n",
    "my_df.LeaguesDF()"
   ]
  },
  {
   "cell_type": "markdown",
   "metadata": {},
   "source": [
    "Now to build my network I actually need fixtures details for that. I can just use `my_df.addFixtures()` which will automatically download and add all fixtures of the leagues currently in my universe."
   ]
  },
  {
   "cell_type": "code",
   "execution_count": 22,
   "metadata": {},
   "outputs": [],
   "source": [
    "my_df.addFixtures()"
   ]
  },
  {
   "cell_type": "markdown",
   "metadata": {},
   "source": [
    "Once it is done, I can see a dataframe with all the fixtures I have download by using `my_df.FixturesDF()`"
   ]
  },
  {
   "cell_type": "code",
   "execution_count": 23,
   "metadata": {},
   "outputs": [
    {
     "data": {
      "text/html": [
       "<div>\n",
       "<style scoped>\n",
       "    .dataframe tbody tr th:only-of-type {\n",
       "        vertical-align: middle;\n",
       "    }\n",
       "\n",
       "    .dataframe tbody tr th {\n",
       "        vertical-align: top;\n",
       "    }\n",
       "\n",
       "    .dataframe thead th {\n",
       "        text-align: right;\n",
       "    }\n",
       "</style>\n",
       "<table border=\"1\" class=\"dataframe\">\n",
       "  <thead>\n",
       "    <tr style=\"text-align: right;\">\n",
       "      <th></th>\n",
       "      <th>league_id</th>\n",
       "      <th>home_team</th>\n",
       "      <th>away_team</th>\n",
       "      <th>home_score</th>\n",
       "      <th>away_score</th>\n",
       "      <th>season</th>\n",
       "    </tr>\n",
       "    <tr>\n",
       "      <th>fix_id</th>\n",
       "      <th></th>\n",
       "      <th></th>\n",
       "      <th></th>\n",
       "      <th></th>\n",
       "      <th></th>\n",
       "      <th></th>\n",
       "    </tr>\n",
       "  </thead>\n",
       "  <tbody>\n",
       "    <tr>\n",
       "      <th>9887</th>\n",
       "      <td>30</td>\n",
       "      <td>Leganes</td>\n",
       "      <td>Alaves</td>\n",
       "      <td>1</td>\n",
       "      <td>0</td>\n",
       "      <td>2017</td>\n",
       "    </tr>\n",
       "    <tr>\n",
       "      <th>9886</th>\n",
       "      <td>30</td>\n",
       "      <td>Valencia</td>\n",
       "      <td>Las Palmas</td>\n",
       "      <td>1</td>\n",
       "      <td>0</td>\n",
       "      <td>2017</td>\n",
       "    </tr>\n",
       "    <tr>\n",
       "      <th>9885</th>\n",
       "      <td>30</td>\n",
       "      <td>Celta Vigo</td>\n",
       "      <td>Real Sociedad</td>\n",
       "      <td>2</td>\n",
       "      <td>3</td>\n",
       "      <td>2017</td>\n",
       "    </tr>\n",
       "    <tr>\n",
       "      <th>9884</th>\n",
       "      <td>30</td>\n",
       "      <td>Girona</td>\n",
       "      <td>Atletico Madrid</td>\n",
       "      <td>2</td>\n",
       "      <td>2</td>\n",
       "      <td>2017</td>\n",
       "    </tr>\n",
       "    <tr>\n",
       "      <th>9883</th>\n",
       "      <td>30</td>\n",
       "      <td>Sevilla</td>\n",
       "      <td>Espanyol</td>\n",
       "      <td>1</td>\n",
       "      <td>1</td>\n",
       "      <td>2017</td>\n",
       "    </tr>\n",
       "    <tr>\n",
       "      <th>...</th>\n",
       "      <td>...</td>\n",
       "      <td>...</td>\n",
       "      <td>...</td>\n",
       "      <td>...</td>\n",
       "      <td>...</td>\n",
       "      <td>...</td>\n",
       "    </tr>\n",
       "    <tr>\n",
       "      <th>214397</th>\n",
       "      <td>775</td>\n",
       "      <td>Levante</td>\n",
       "      <td>Getafe</td>\n",
       "      <td>None</td>\n",
       "      <td>None</td>\n",
       "      <td>2019</td>\n",
       "    </tr>\n",
       "    <tr>\n",
       "      <th>214398</th>\n",
       "      <td>775</td>\n",
       "      <td>Osasuna</td>\n",
       "      <td>Mallorca</td>\n",
       "      <td>None</td>\n",
       "      <td>None</td>\n",
       "      <td>2019</td>\n",
       "    </tr>\n",
       "    <tr>\n",
       "      <th>214399</th>\n",
       "      <td>775</td>\n",
       "      <td>Sevilla</td>\n",
       "      <td>Valencia</td>\n",
       "      <td>None</td>\n",
       "      <td>None</td>\n",
       "      <td>2019</td>\n",
       "    </tr>\n",
       "    <tr>\n",
       "      <th>214400</th>\n",
       "      <td>775</td>\n",
       "      <td>Villarreal</td>\n",
       "      <td>Eibar</td>\n",
       "      <td>None</td>\n",
       "      <td>None</td>\n",
       "      <td>2019</td>\n",
       "    </tr>\n",
       "    <tr>\n",
       "      <th>214401</th>\n",
       "      <td>775</td>\n",
       "      <td>Valladolid</td>\n",
       "      <td>Real Betis</td>\n",
       "      <td>None</td>\n",
       "      <td>None</td>\n",
       "      <td>2019</td>\n",
       "    </tr>\n",
       "  </tbody>\n",
       "</table>\n",
       "<p>1140 rows × 6 columns</p>\n",
       "</div>"
      ],
      "text/plain": [
       "        league_id   home_team        away_team home_score away_score  season\n",
       "fix_id                                                                      \n",
       "9887           30     Leganes           Alaves          1          0    2017\n",
       "9886           30    Valencia       Las Palmas          1          0    2017\n",
       "9885           30  Celta Vigo    Real Sociedad          2          3    2017\n",
       "9884           30      Girona  Atletico Madrid          2          2    2017\n",
       "9883           30     Sevilla         Espanyol          1          1    2017\n",
       "...           ...         ...              ...        ...        ...     ...\n",
       "214397        775     Levante           Getafe       None       None    2019\n",
       "214398        775     Osasuna         Mallorca       None       None    2019\n",
       "214399        775     Sevilla         Valencia       None       None    2019\n",
       "214400        775  Villarreal            Eibar       None       None    2019\n",
       "214401        775  Valladolid       Real Betis       None       None    2019\n",
       "\n",
       "[1140 rows x 6 columns]"
      ]
     },
     "execution_count": 23,
     "metadata": {},
     "output_type": "execute_result"
    }
   ],
   "source": [
    "my_df.FixturesDF()"
   ]
  },
  {
   "cell_type": "markdown",
   "metadata": {},
   "source": [
    "I can get more detail of a fixture by calling the method `fixtureDetail(fix_id)`. The dictionary returned contains the exact date and time, half time score, penalty, extra time, referee and venue."
   ]
  },
  {
   "cell_type": "code",
   "execution_count": 25,
   "metadata": {},
   "outputs": [
    {
     "data": {
      "text/plain": [
       "{9883: {'league_id': 30,\n",
       "  'country': 'Spain',\n",
       "  'season': 2017,\n",
       "  'date': '2017-08-19T20:15:00+00:00',\n",
       "  'home_id': 536,\n",
       "  'home': 'Sevilla',\n",
       "  'away_id': 540,\n",
       "  'away': 'Espanyol',\n",
       "  'home_score': 1,\n",
       "  'away_score': 1,\n",
       "  'ht_score': '1-1',\n",
       "  'extra_time': None,\n",
       "  'penalty': None,\n",
       "  'referee': 'Alejandro Hernandez, Spain',\n",
       "  'venue': 'Ramón Sánchez-Pizjuán'}}"
      ]
     },
     "execution_count": 25,
     "metadata": {},
     "output_type": "execute_result"
    }
   ],
   "source": [
    "my_df.fixtureDetail(9883)"
   ]
  },
  {
   "cell_type": "markdown",
   "metadata": {},
   "source": [
    "For future project that I may have to use actual players rankings I have created a fifa class which will automatically\n",
    "create and merge all fifa players datasets that can be found on kaggle (link below)."
   ]
  },
  {
   "cell_type": "markdown",
   "metadata": {},
   "source": [
    "https://www.kaggle.com/stefanoleone992/fifa-20-complete-player-dataset"
   ]
  },
  {
   "cell_type": "code",
   "execution_count": 26,
   "metadata": {},
   "outputs": [
    {
     "data": {
      "text/html": [
       "<div>\n",
       "<style scoped>\n",
       "    .dataframe tbody tr th:only-of-type {\n",
       "        vertical-align: middle;\n",
       "    }\n",
       "\n",
       "    .dataframe tbody tr th {\n",
       "        vertical-align: top;\n",
       "    }\n",
       "\n",
       "    .dataframe thead th {\n",
       "        text-align: right;\n",
       "    }\n",
       "</style>\n",
       "<table border=\"1\" class=\"dataframe\">\n",
       "  <thead>\n",
       "    <tr style=\"text-align: right;\">\n",
       "      <th></th>\n",
       "      <th>sofifa_id</th>\n",
       "      <th>player_url</th>\n",
       "      <th>short_name</th>\n",
       "      <th>long_name</th>\n",
       "      <th>age</th>\n",
       "      <th>dob</th>\n",
       "      <th>height_cm</th>\n",
       "      <th>weight_kg</th>\n",
       "      <th>nationality</th>\n",
       "      <th>club</th>\n",
       "      <th>overall_16</th>\n",
       "      <th>overall_17</th>\n",
       "      <th>overall_18</th>\n",
       "      <th>overall_19</th>\n",
       "      <th>overall_20</th>\n",
       "    </tr>\n",
       "  </thead>\n",
       "  <tbody>\n",
       "    <tr>\n",
       "      <th>0</th>\n",
       "      <td>158023</td>\n",
       "      <td>https://sofifa.com/player/158023/lionel-messi/...</td>\n",
       "      <td>L. Messi</td>\n",
       "      <td>Lionel Andrés Messi Cuccittini</td>\n",
       "      <td>28</td>\n",
       "      <td>1987-06-24</td>\n",
       "      <td>170</td>\n",
       "      <td>72</td>\n",
       "      <td>Argentina</td>\n",
       "      <td>FC Barcelona</td>\n",
       "      <td>94.0</td>\n",
       "      <td>93.0</td>\n",
       "      <td>93.0</td>\n",
       "      <td>94.0</td>\n",
       "      <td>94.0</td>\n",
       "    </tr>\n",
       "    <tr>\n",
       "      <th>1</th>\n",
       "      <td>20801</td>\n",
       "      <td>https://sofifa.com/player/20801/c-ronaldo-dos-...</td>\n",
       "      <td>Cristiano Ronaldo</td>\n",
       "      <td>Cristiano Ronaldo dos Santos Aveiro</td>\n",
       "      <td>30</td>\n",
       "      <td>1985-02-05</td>\n",
       "      <td>185</td>\n",
       "      <td>80</td>\n",
       "      <td>Portugal</td>\n",
       "      <td>Real Madrid</td>\n",
       "      <td>93.0</td>\n",
       "      <td>94.0</td>\n",
       "      <td>94.0</td>\n",
       "      <td>94.0</td>\n",
       "      <td>93.0</td>\n",
       "    </tr>\n",
       "    <tr>\n",
       "      <th>2</th>\n",
       "      <td>9014</td>\n",
       "      <td>https://sofifa.com/player/9014/arjen-robben/16...</td>\n",
       "      <td>A. Robben</td>\n",
       "      <td>Arjen Robben</td>\n",
       "      <td>31</td>\n",
       "      <td>1984-01-23</td>\n",
       "      <td>180</td>\n",
       "      <td>80</td>\n",
       "      <td>Netherlands</td>\n",
       "      <td>FC Bayern München</td>\n",
       "      <td>90.0</td>\n",
       "      <td>87.0</td>\n",
       "      <td>88.0</td>\n",
       "      <td>85.0</td>\n",
       "      <td>NaN</td>\n",
       "    </tr>\n",
       "    <tr>\n",
       "      <th>3</th>\n",
       "      <td>167495</td>\n",
       "      <td>https://sofifa.com/player/167495/manuel-neuer/...</td>\n",
       "      <td>M. Neuer</td>\n",
       "      <td>Manuel Neuer</td>\n",
       "      <td>29</td>\n",
       "      <td>1986-03-27</td>\n",
       "      <td>193</td>\n",
       "      <td>92</td>\n",
       "      <td>Germany</td>\n",
       "      <td>FC Bayern München</td>\n",
       "      <td>90.0</td>\n",
       "      <td>92.0</td>\n",
       "      <td>92.0</td>\n",
       "      <td>90.0</td>\n",
       "      <td>88.0</td>\n",
       "    </tr>\n",
       "    <tr>\n",
       "      <th>4</th>\n",
       "      <td>176580</td>\n",
       "      <td>https://sofifa.com/player/176580/luis-suarez/1...</td>\n",
       "      <td>L. Suárez</td>\n",
       "      <td>Luis Alberto Suárez Díaz</td>\n",
       "      <td>28</td>\n",
       "      <td>1987-01-24</td>\n",
       "      <td>182</td>\n",
       "      <td>85</td>\n",
       "      <td>Uruguay</td>\n",
       "      <td>FC Barcelona</td>\n",
       "      <td>90.0</td>\n",
       "      <td>92.0</td>\n",
       "      <td>92.0</td>\n",
       "      <td>91.0</td>\n",
       "      <td>89.0</td>\n",
       "    </tr>\n",
       "  </tbody>\n",
       "</table>\n",
       "</div>"
      ],
      "text/plain": [
       "   sofifa_id                                         player_url  \\\n",
       "0     158023  https://sofifa.com/player/158023/lionel-messi/...   \n",
       "1      20801  https://sofifa.com/player/20801/c-ronaldo-dos-...   \n",
       "2       9014  https://sofifa.com/player/9014/arjen-robben/16...   \n",
       "3     167495  https://sofifa.com/player/167495/manuel-neuer/...   \n",
       "4     176580  https://sofifa.com/player/176580/luis-suarez/1...   \n",
       "\n",
       "          short_name                            long_name  age         dob  \\\n",
       "0           L. Messi       Lionel Andrés Messi Cuccittini   28  1987-06-24   \n",
       "1  Cristiano Ronaldo  Cristiano Ronaldo dos Santos Aveiro   30  1985-02-05   \n",
       "2          A. Robben                         Arjen Robben   31  1984-01-23   \n",
       "3           M. Neuer                         Manuel Neuer   29  1986-03-27   \n",
       "4          L. Suárez             Luis Alberto Suárez Díaz   28  1987-01-24   \n",
       "\n",
       "   height_cm  weight_kg  nationality               club  overall_16  \\\n",
       "0        170         72    Argentina       FC Barcelona        94.0   \n",
       "1        185         80     Portugal        Real Madrid        93.0   \n",
       "2        180         80  Netherlands  FC Bayern München        90.0   \n",
       "3        193         92      Germany  FC Bayern München        90.0   \n",
       "4        182         85      Uruguay       FC Barcelona        90.0   \n",
       "\n",
       "   overall_17  overall_18  overall_19  overall_20  \n",
       "0        93.0        93.0        94.0        94.0  \n",
       "1        94.0        94.0        94.0        93.0  \n",
       "2        87.0        88.0        85.0         NaN  \n",
       "3        92.0        92.0        90.0        88.0  \n",
       "4        92.0        92.0        91.0        89.0  "
      ]
     },
     "execution_count": 26,
     "metadata": {},
     "output_type": "execute_result"
    }
   ],
   "source": [
    "fifa_players_df = fifa.fifa()\n",
    "fifa_players_df.fifaDF().head()"
   ]
  },
  {
   "cell_type": "markdown",
   "metadata": {},
   "source": [
    "So as I said for now I'll just use the team rankings for building my model. the ranks included are defense, midfield\n",
    "attack and overvall for each version of fifa (Each year EA release a new version with updated ranks)"
   ]
  },
  {
   "cell_type": "code",
   "execution_count": 1,
   "metadata": {},
   "outputs": [],
   "source": [
    "import fifa_index"
   ]
  },
  {
   "cell_type": "markdown",
   "metadata": {},
   "source": [
    "Creating the object first and the choosing which versions of fifa I'd like to download to my object. The ranks are\n",
    "scraped from fifaindex.com ."
   ]
  },
  {
   "cell_type": "code",
   "execution_count": 2,
   "metadata": {},
   "outputs": [],
   "source": [
    "fifa_teams = fifa_index.fifaIndex()\n",
    "fifa_teams.setVersions(18,19,20)"
   ]
  },
  {
   "cell_type": "markdown",
   "metadata": {},
   "source": [
    "To see which leagues are available, I can just call `getAvailableLeagues()` method. The method will print out all leagues with their ids. The id will be needed for the method that actually scrape."
   ]
  },
  {
   "cell_type": "code",
   "execution_count": 3,
   "metadata": {
    "scrolled": true
   },
   "outputs": [
    {
     "data": {
      "text/plain": [
       "[('2076', '3. Liga'),\n",
       " ('2012', 'CSL'),\n",
       " ('1014', 'Sudamericana'),\n",
       " ('1003', 'Libertadores'),\n",
       " ('382', 'Free Agents'),\n",
       " ('353', 'SAF'),\n",
       " ('351', 'Hyundai A-League'),\n",
       " ('350', 'MBS Pro League'),\n",
       " ('349', 'Meiji Yasuda J1'),\n",
       " ('341', 'LIGA BBVA MX'),\n",
       " ('336', 'Liga Dimayor'),\n",
       " ('335', 'Camp. AFP PlanVital'),\n",
       " ('330', 'Liga I'),\n",
       " ('308', 'Liga NOS'),\n",
       " ('189', 'RSL'),\n",
       " ('83', 'K-League 1'),\n",
       " ('80', 'Ö. Bundesliga'),\n",
       " ('76', 'Rest of World'),\n",
       " ('68', 'Süper Lig'),\n",
       " ('66', 'PKO Ekstraklasa'),\n",
       " ('65', 'SSE Airtricity Lge'),\n",
       " ('61', 'EFL League Two'),\n",
       " ('60', 'EFL League One'),\n",
       " ('56', 'Allsvenskan'),\n",
       " ('54', 'LaLiga SmartBank'),\n",
       " ('53', 'LaLiga Santander'),\n",
       " ('50', 'Scottish Prem'),\n",
       " ('41', 'Eliteserien'),\n",
       " ('39', 'MLS'),\n",
       " ('32', 'Calcio B'),\n",
       " ('31', 'Serie A TIM'),\n",
       " ('20', 'Bundesliga 2'),\n",
       " ('19', 'Bundesliga'),\n",
       " ('17', 'Domino’s Ligue 2'),\n",
       " ('16', 'Ligue 1 Conforama'),\n",
       " ('14', 'EFL Championship'),\n",
       " ('13', 'Premier League'),\n",
       " ('10', 'Eredivisie'),\n",
       " ('7', 'Liga do Brasil'),\n",
       " ('4', 'Pro League'),\n",
       " ('1', '3F Superliga')]"
      ]
     },
     "execution_count": 3,
     "metadata": {},
     "output_type": "execute_result"
    }
   ],
   "source": [
    "fifa_teams.getAvailableLeagues()"
   ]
  },
  {
   "cell_type": "code",
   "execution_count": 4,
   "metadata": {},
   "outputs": [
    {
     "name": "stdout",
     "output_type": "stream",
     "text": [
      "scraping:\t https://www.fifaindex.com/teams/fifa18/1/?league=53&\n",
      "scraping:\t https://www.fifaindex.com/teams/fifa19/1/?league=53&\n",
      "scraping:\t https://www.fifaindex.com/teams/fifa20/1/?league=53&\n"
     ]
    }
   ],
   "source": [
    "fifa_teams.scrapeLeagues(53) #This takes a little bit longer than usual because of google translator."
   ]
  },
  {
   "cell_type": "code",
   "execution_count": 5,
   "metadata": {},
   "outputs": [
    {
     "data": {
      "text/plain": [
       "dict_keys(['Real Madrid CF', 'FC Barcelona', 'Atletico Madrid', 'Valencia CF', 'Athletic Club de Bilbao', 'Sevilla FC', 'Villarreal CF', 'Real Sociedad', 'Real Betis Balompie', 'RCD Espanyol', 'RC Celta de Vigo', 'RC Deportivo de La Coruna', 'SD Eibar', 'Girona CF', 'Deportivo Alaves', 'UD Las Palmas', 'Levante UD', 'Malaga CF', 'CD Leganes', 'Getafe CF', 'Real Madrid', 'Real Betis', 'Athletic Club', 'RC Celta', 'Girona FC', 'D. Alaves', 'Rayo Vallecano', 'R. Valladolid CF', 'SD Huesca', 'Granada CF', 'CA Osasuna', 'RCD Mallorca'])"
      ]
     },
     "execution_count": 5,
     "metadata": {},
     "output_type": "execute_result"
    }
   ],
   "source": [
    "fifa_teams.teams.keys()"
   ]
  },
  {
   "cell_type": "code",
   "execution_count": 6,
   "metadata": {},
   "outputs": [
    {
     "data": {
      "text/plain": [
       "32"
      ]
     },
     "execution_count": 6,
     "metadata": {},
     "output_type": "execute_result"
    }
   ],
   "source": [
    "len(fifa_teams.teams.keys())"
   ]
  },
  {
   "cell_type": "markdown",
   "metadata": {},
   "source": [
    "The teams attribute may have duplicates because some teams may be written in different languages on fifaindex.com. I already tried using google translate to make sure all team names are the same and in english but the translation sometimes make it impossible to identify which team it actually is (or was)."
   ]
  },
  {
   "cell_type": "code",
   "execution_count": 7,
   "metadata": {},
   "outputs": [
    {
     "data": {
      "text/plain": [
       "['Athletic Club',\n",
       " 'Athletic Club de Bilbao',\n",
       " 'CA Osasuna',\n",
       " 'D. Alaves',\n",
       " 'Deportivo Alaves',\n",
       " 'Girona CF',\n",
       " 'Girona FC',\n",
       " 'Granada CF',\n",
       " 'Malaga CF',\n",
       " 'R. Valladolid CF',\n",
       " 'RC Celta',\n",
       " 'RC Celta de Vigo',\n",
       " 'RC Deportivo de La Coruna',\n",
       " 'RCD Mallorca',\n",
       " 'Rayo Vallecano',\n",
       " 'Real Betis',\n",
       " 'Real Betis Balompie',\n",
       " 'Real Madrid',\n",
       " 'Real Madrid CF',\n",
       " 'SD Huesca',\n",
       " 'UD Las Palmas']"
      ]
     },
     "execution_count": 7,
     "metadata": {},
     "output_type": "execute_result"
    }
   ],
   "source": [
    "fifa_teams.possibleDuplicates()"
   ]
  },
  {
   "cell_type": "markdown",
   "metadata": {},
   "source": [
    "So far I haven't found any way to make it automatically. So I just wrote the method above that will return possible duplicates. Then I'll just have to use another method I wrote which takes in as many arguemnts and each agruments must be a list of two. First is the name that will be kept and the other one discared (not before merging them)."
   ]
  },
  {
   "cell_type": "code",
   "execution_count": 8,
   "metadata": {},
   "outputs": [],
   "source": [
    "fifa_teams.mergeTeams(['Athletic Club','Athletic Club de Bilbao'],\n",
    "                     ['D. Alaves','Deportivo Alaves'],\n",
    "                     ['Girona CF','Girona FC'],\n",
    "                     ['RC Celta','RC Celta de Vigo'],\n",
    "                     ['Real Betis','Real Betis Balompie'],\n",
    "                     ['Real Madrid','Real Madrid CF'])"
   ]
  },
  {
   "cell_type": "markdown",
   "metadata": {},
   "source": [
    "I believe the next step of this project will be scraping each team characteristics such as offensive / defensive style , with, depth and numbers of players in the box"
   ]
  },
  {
   "cell_type": "code",
   "execution_count": 14,
   "metadata": {},
   "outputs": [
    {
     "data": {
      "text/html": [
       "<div>\n",
       "<style scoped>\n",
       "    .dataframe tbody tr th:only-of-type {\n",
       "        vertical-align: middle;\n",
       "    }\n",
       "\n",
       "    .dataframe tbody tr th {\n",
       "        vertical-align: top;\n",
       "    }\n",
       "\n",
       "    .dataframe thead th {\n",
       "        text-align: right;\n",
       "    }\n",
       "</style>\n",
       "<table border=\"1\" class=\"dataframe\">\n",
       "  <thead>\n",
       "    <tr style=\"text-align: right;\">\n",
       "      <th></th>\n",
       "      <th></th>\n",
       "      <th>defense</th>\n",
       "      <th>midfield</th>\n",
       "      <th>attack</th>\n",
       "      <th>overall</th>\n",
       "    </tr>\n",
       "  </thead>\n",
       "  <tbody>\n",
       "    <tr>\n",
       "      <th rowspan=\"3\" valign=\"top\">FC Barcelona</th>\n",
       "      <th>18</th>\n",
       "      <td>84</td>\n",
       "      <td>84</td>\n",
       "      <td>93</td>\n",
       "      <td>85</td>\n",
       "    </tr>\n",
       "    <tr>\n",
       "      <th>19</th>\n",
       "      <td>85</td>\n",
       "      <td>86</td>\n",
       "      <td>87</td>\n",
       "      <td>86</td>\n",
       "    </tr>\n",
       "    <tr>\n",
       "      <th>20</th>\n",
       "      <td>85</td>\n",
       "      <td>85</td>\n",
       "      <td>88</td>\n",
       "      <td>86</td>\n",
       "    </tr>\n",
       "    <tr>\n",
       "      <th rowspan=\"3\" valign=\"top\">Atletico Madrid</th>\n",
       "      <th>18</th>\n",
       "      <td>83</td>\n",
       "      <td>82</td>\n",
       "      <td>85</td>\n",
       "      <td>83</td>\n",
       "    </tr>\n",
       "    <tr>\n",
       "      <th>19</th>\n",
       "      <td>84</td>\n",
       "      <td>83</td>\n",
       "      <td>85</td>\n",
       "      <td>84</td>\n",
       "    </tr>\n",
       "    <tr>\n",
       "      <th>20</th>\n",
       "      <td>82</td>\n",
       "      <td>83</td>\n",
       "      <td>81</td>\n",
       "      <td>83</td>\n",
       "    </tr>\n",
       "    <tr>\n",
       "      <th rowspan=\"3\" valign=\"top\">Valencia CF</th>\n",
       "      <th>18</th>\n",
       "      <td>80</td>\n",
       "      <td>80</td>\n",
       "      <td>80</td>\n",
       "      <td>80</td>\n",
       "    </tr>\n",
       "    <tr>\n",
       "      <th>19</th>\n",
       "      <td>79</td>\n",
       "      <td>81</td>\n",
       "      <td>79</td>\n",
       "      <td>80</td>\n",
       "    </tr>\n",
       "    <tr>\n",
       "      <th>20</th>\n",
       "      <td>81</td>\n",
       "      <td>81</td>\n",
       "      <td>81</td>\n",
       "      <td>81</td>\n",
       "    </tr>\n",
       "    <tr>\n",
       "      <th rowspan=\"3\" valign=\"top\">Sevilla FC</th>\n",
       "      <th>18</th>\n",
       "      <td>79</td>\n",
       "      <td>80</td>\n",
       "      <td>80</td>\n",
       "      <td>79</td>\n",
       "    </tr>\n",
       "    <tr>\n",
       "      <th>19</th>\n",
       "      <td>79</td>\n",
       "      <td>80</td>\n",
       "      <td>81</td>\n",
       "      <td>80</td>\n",
       "    </tr>\n",
       "    <tr>\n",
       "      <th>20</th>\n",
       "      <td>80</td>\n",
       "      <td>81</td>\n",
       "      <td>79</td>\n",
       "      <td>80</td>\n",
       "    </tr>\n",
       "    <tr>\n",
       "      <th rowspan=\"3\" valign=\"top\">Villarreal CF</th>\n",
       "      <th>18</th>\n",
       "      <td>80</td>\n",
       "      <td>79</td>\n",
       "      <td>79</td>\n",
       "      <td>79</td>\n",
       "    </tr>\n",
       "    <tr>\n",
       "      <th>19</th>\n",
       "      <td>78</td>\n",
       "      <td>79</td>\n",
       "      <td>78</td>\n",
       "      <td>79</td>\n",
       "    </tr>\n",
       "    <tr>\n",
       "      <th>20</th>\n",
       "      <td>78</td>\n",
       "      <td>79</td>\n",
       "      <td>80</td>\n",
       "      <td>79</td>\n",
       "    </tr>\n",
       "    <tr>\n",
       "      <th rowspan=\"3\" valign=\"top\">Real Sociedad</th>\n",
       "      <th>18</th>\n",
       "      <td>76</td>\n",
       "      <td>78</td>\n",
       "      <td>80</td>\n",
       "      <td>78</td>\n",
       "    </tr>\n",
       "    <tr>\n",
       "      <th>19</th>\n",
       "      <td>76</td>\n",
       "      <td>77</td>\n",
       "      <td>79</td>\n",
       "      <td>78</td>\n",
       "    </tr>\n",
       "    <tr>\n",
       "      <th>20</th>\n",
       "      <td>77</td>\n",
       "      <td>80</td>\n",
       "      <td>81</td>\n",
       "      <td>79</td>\n",
       "    </tr>\n",
       "    <tr>\n",
       "      <th rowspan=\"3\" valign=\"top\">RCD Espanyol</th>\n",
       "      <th>18</th>\n",
       "      <td>76</td>\n",
       "      <td>78</td>\n",
       "      <td>79</td>\n",
       "      <td>78</td>\n",
       "    </tr>\n",
       "    <tr>\n",
       "      <th>19</th>\n",
       "      <td>75</td>\n",
       "      <td>77</td>\n",
       "      <td>77</td>\n",
       "      <td>77</td>\n",
       "    </tr>\n",
       "    <tr>\n",
       "      <th>20</th>\n",
       "      <td>76</td>\n",
       "      <td>78</td>\n",
       "      <td>78</td>\n",
       "      <td>77</td>\n",
       "    </tr>\n",
       "    <tr>\n",
       "      <th>RC Deportivo de La Coruna</th>\n",
       "      <th>18</th>\n",
       "      <td>77</td>\n",
       "      <td>77</td>\n",
       "      <td>79</td>\n",
       "      <td>77</td>\n",
       "    </tr>\n",
       "    <tr>\n",
       "      <th rowspan=\"3\" valign=\"top\">SD Eibar</th>\n",
       "      <th>18</th>\n",
       "      <td>75</td>\n",
       "      <td>78</td>\n",
       "      <td>77</td>\n",
       "      <td>77</td>\n",
       "    </tr>\n",
       "    <tr>\n",
       "      <th>19</th>\n",
       "      <td>76</td>\n",
       "      <td>77</td>\n",
       "      <td>79</td>\n",
       "      <td>77</td>\n",
       "    </tr>\n",
       "    <tr>\n",
       "      <th>20</th>\n",
       "      <td>75</td>\n",
       "      <td>78</td>\n",
       "      <td>78</td>\n",
       "      <td>77</td>\n",
       "    </tr>\n",
       "    <tr>\n",
       "      <th rowspan=\"2\" valign=\"top\">Girona CF</th>\n",
       "      <th>18</th>\n",
       "      <td>75</td>\n",
       "      <td>76</td>\n",
       "      <td>79</td>\n",
       "      <td>75</td>\n",
       "    </tr>\n",
       "    <tr>\n",
       "      <th>19</th>\n",
       "      <td>76</td>\n",
       "      <td>76</td>\n",
       "      <td>79</td>\n",
       "      <td>77</td>\n",
       "    </tr>\n",
       "    <tr>\n",
       "      <th>UD Las Palmas</th>\n",
       "      <th>18</th>\n",
       "      <td>75</td>\n",
       "      <td>74</td>\n",
       "      <td>77</td>\n",
       "      <td>75</td>\n",
       "    </tr>\n",
       "    <tr>\n",
       "      <th rowspan=\"3\" valign=\"top\">Levante UD</th>\n",
       "      <th>18</th>\n",
       "      <td>75</td>\n",
       "      <td>76</td>\n",
       "      <td>75</td>\n",
       "      <td>75</td>\n",
       "    </tr>\n",
       "    <tr>\n",
       "      <th>19</th>\n",
       "      <td>75</td>\n",
       "      <td>76</td>\n",
       "      <td>77</td>\n",
       "      <td>76</td>\n",
       "    </tr>\n",
       "    <tr>\n",
       "      <th>20</th>\n",
       "      <td>76</td>\n",
       "      <td>77</td>\n",
       "      <td>77</td>\n",
       "      <td>77</td>\n",
       "    </tr>\n",
       "    <tr>\n",
       "      <th>Malaga CF</th>\n",
       "      <th>18</th>\n",
       "      <td>75</td>\n",
       "      <td>75</td>\n",
       "      <td>75</td>\n",
       "      <td>75</td>\n",
       "    </tr>\n",
       "    <tr>\n",
       "      <th rowspan=\"3\" valign=\"top\">CD Leganes</th>\n",
       "      <th>18</th>\n",
       "      <td>74</td>\n",
       "      <td>75</td>\n",
       "      <td>74</td>\n",
       "      <td>75</td>\n",
       "    </tr>\n",
       "    <tr>\n",
       "      <th>19</th>\n",
       "      <td>74</td>\n",
       "      <td>75</td>\n",
       "      <td>74</td>\n",
       "      <td>75</td>\n",
       "    </tr>\n",
       "    <tr>\n",
       "      <th>20</th>\n",
       "      <td>75</td>\n",
       "      <td>75</td>\n",
       "      <td>75</td>\n",
       "      <td>75</td>\n",
       "    </tr>\n",
       "    <tr>\n",
       "      <th rowspan=\"3\" valign=\"top\">Getafe CF</th>\n",
       "      <th>18</th>\n",
       "      <td>75</td>\n",
       "      <td>74</td>\n",
       "      <td>75</td>\n",
       "      <td>74</td>\n",
       "    </tr>\n",
       "    <tr>\n",
       "      <th>19</th>\n",
       "      <td>78</td>\n",
       "      <td>75</td>\n",
       "      <td>79</td>\n",
       "      <td>77</td>\n",
       "    </tr>\n",
       "    <tr>\n",
       "      <th>20</th>\n",
       "      <td>78</td>\n",
       "      <td>77</td>\n",
       "      <td>80</td>\n",
       "      <td>78</td>\n",
       "    </tr>\n",
       "    <tr>\n",
       "      <th rowspan=\"3\" valign=\"top\">Real Madrid</th>\n",
       "      <th>19</th>\n",
       "      <td>86</td>\n",
       "      <td>88</td>\n",
       "      <td>83</td>\n",
       "      <td>86</td>\n",
       "    </tr>\n",
       "    <tr>\n",
       "      <th>20</th>\n",
       "      <td>85</td>\n",
       "      <td>87</td>\n",
       "      <td>85</td>\n",
       "      <td>86</td>\n",
       "    </tr>\n",
       "    <tr>\n",
       "      <th>18</th>\n",
       "      <td>86</td>\n",
       "      <td>86</td>\n",
       "      <td>86</td>\n",
       "      <td>86</td>\n",
       "    </tr>\n",
       "    <tr>\n",
       "      <th rowspan=\"3\" valign=\"top\">Real Betis</th>\n",
       "      <th>19</th>\n",
       "      <td>80</td>\n",
       "      <td>80</td>\n",
       "      <td>79</td>\n",
       "      <td>80</td>\n",
       "    </tr>\n",
       "    <tr>\n",
       "      <th>20</th>\n",
       "      <td>78</td>\n",
       "      <td>81</td>\n",
       "      <td>81</td>\n",
       "      <td>80</td>\n",
       "    </tr>\n",
       "    <tr>\n",
       "      <th>18</th>\n",
       "      <td>76</td>\n",
       "      <td>79</td>\n",
       "      <td>79</td>\n",
       "      <td>78</td>\n",
       "    </tr>\n",
       "    <tr>\n",
       "      <th rowspan=\"3\" valign=\"top\">Athletic Club</th>\n",
       "      <th>19</th>\n",
       "      <td>78</td>\n",
       "      <td>80</td>\n",
       "      <td>80</td>\n",
       "      <td>79</td>\n",
       "    </tr>\n",
       "    <tr>\n",
       "      <th>20</th>\n",
       "      <td>79</td>\n",
       "      <td>79</td>\n",
       "      <td>79</td>\n",
       "      <td>79</td>\n",
       "    </tr>\n",
       "    <tr>\n",
       "      <th>18</th>\n",
       "      <td>78</td>\n",
       "      <td>79</td>\n",
       "      <td>81</td>\n",
       "      <td>79</td>\n",
       "    </tr>\n",
       "    <tr>\n",
       "      <th rowspan=\"3\" valign=\"top\">RC Celta</th>\n",
       "      <th>19</th>\n",
       "      <td>75</td>\n",
       "      <td>77</td>\n",
       "      <td>80</td>\n",
       "      <td>77</td>\n",
       "    </tr>\n",
       "    <tr>\n",
       "      <th>20</th>\n",
       "      <td>76</td>\n",
       "      <td>77</td>\n",
       "      <td>80</td>\n",
       "      <td>77</td>\n",
       "    </tr>\n",
       "    <tr>\n",
       "      <th>18</th>\n",
       "      <td>78</td>\n",
       "      <td>78</td>\n",
       "      <td>78</td>\n",
       "      <td>78</td>\n",
       "    </tr>\n",
       "    <tr>\n",
       "      <th rowspan=\"3\" valign=\"top\">D. Alaves</th>\n",
       "      <th>19</th>\n",
       "      <td>76</td>\n",
       "      <td>77</td>\n",
       "      <td>76</td>\n",
       "      <td>76</td>\n",
       "    </tr>\n",
       "    <tr>\n",
       "      <th>20</th>\n",
       "      <td>76</td>\n",
       "      <td>75</td>\n",
       "      <td>76</td>\n",
       "      <td>76</td>\n",
       "    </tr>\n",
       "    <tr>\n",
       "      <th>18</th>\n",
       "      <td>74</td>\n",
       "      <td>75</td>\n",
       "      <td>77</td>\n",
       "      <td>75</td>\n",
       "    </tr>\n",
       "    <tr>\n",
       "      <th>Rayo Vallecano</th>\n",
       "      <th>19</th>\n",
       "      <td>73</td>\n",
       "      <td>75</td>\n",
       "      <td>78</td>\n",
       "      <td>74</td>\n",
       "    </tr>\n",
       "    <tr>\n",
       "      <th rowspan=\"2\" valign=\"top\">R. Valladolid CF</th>\n",
       "      <th>19</th>\n",
       "      <td>72</td>\n",
       "      <td>73</td>\n",
       "      <td>76</td>\n",
       "      <td>74</td>\n",
       "    </tr>\n",
       "    <tr>\n",
       "      <th>20</th>\n",
       "      <td>73</td>\n",
       "      <td>76</td>\n",
       "      <td>76</td>\n",
       "      <td>76</td>\n",
       "    </tr>\n",
       "    <tr>\n",
       "      <th>SD Huesca</th>\n",
       "      <th>19</th>\n",
       "      <td>72</td>\n",
       "      <td>73</td>\n",
       "      <td>74</td>\n",
       "      <td>72</td>\n",
       "    </tr>\n",
       "    <tr>\n",
       "      <th>Granada CF</th>\n",
       "      <th>20</th>\n",
       "      <td>75</td>\n",
       "      <td>75</td>\n",
       "      <td>76</td>\n",
       "      <td>75</td>\n",
       "    </tr>\n",
       "    <tr>\n",
       "      <th>CA Osasuna</th>\n",
       "      <th>20</th>\n",
       "      <td>74</td>\n",
       "      <td>74</td>\n",
       "      <td>76</td>\n",
       "      <td>74</td>\n",
       "    </tr>\n",
       "    <tr>\n",
       "      <th>RCD Mallorca</th>\n",
       "      <th>20</th>\n",
       "      <td>72</td>\n",
       "      <td>73</td>\n",
       "      <td>76</td>\n",
       "      <td>73</td>\n",
       "    </tr>\n",
       "  </tbody>\n",
       "</table>\n",
       "</div>"
      ],
      "text/plain": [
       "                             defense midfield attack overall\n",
       "FC Barcelona              18      84       84     93      85\n",
       "                          19      85       86     87      86\n",
       "                          20      85       85     88      86\n",
       "Atletico Madrid           18      83       82     85      83\n",
       "                          19      84       83     85      84\n",
       "                          20      82       83     81      83\n",
       "Valencia CF               18      80       80     80      80\n",
       "                          19      79       81     79      80\n",
       "                          20      81       81     81      81\n",
       "Sevilla FC                18      79       80     80      79\n",
       "                          19      79       80     81      80\n",
       "                          20      80       81     79      80\n",
       "Villarreal CF             18      80       79     79      79\n",
       "                          19      78       79     78      79\n",
       "                          20      78       79     80      79\n",
       "Real Sociedad             18      76       78     80      78\n",
       "                          19      76       77     79      78\n",
       "                          20      77       80     81      79\n",
       "RCD Espanyol              18      76       78     79      78\n",
       "                          19      75       77     77      77\n",
       "                          20      76       78     78      77\n",
       "RC Deportivo de La Coruna 18      77       77     79      77\n",
       "SD Eibar                  18      75       78     77      77\n",
       "                          19      76       77     79      77\n",
       "                          20      75       78     78      77\n",
       "Girona CF                 18      75       76     79      75\n",
       "                          19      76       76     79      77\n",
       "UD Las Palmas             18      75       74     77      75\n",
       "Levante UD                18      75       76     75      75\n",
       "                          19      75       76     77      76\n",
       "                          20      76       77     77      77\n",
       "Malaga CF                 18      75       75     75      75\n",
       "CD Leganes                18      74       75     74      75\n",
       "                          19      74       75     74      75\n",
       "                          20      75       75     75      75\n",
       "Getafe CF                 18      75       74     75      74\n",
       "                          19      78       75     79      77\n",
       "                          20      78       77     80      78\n",
       "Real Madrid               19      86       88     83      86\n",
       "                          20      85       87     85      86\n",
       "                          18      86       86     86      86\n",
       "Real Betis                19      80       80     79      80\n",
       "                          20      78       81     81      80\n",
       "                          18      76       79     79      78\n",
       "Athletic Club             19      78       80     80      79\n",
       "                          20      79       79     79      79\n",
       "                          18      78       79     81      79\n",
       "RC Celta                  19      75       77     80      77\n",
       "                          20      76       77     80      77\n",
       "                          18      78       78     78      78\n",
       "D. Alaves                 19      76       77     76      76\n",
       "                          20      76       75     76      76\n",
       "                          18      74       75     77      75\n",
       "Rayo Vallecano            19      73       75     78      74\n",
       "R. Valladolid CF          19      72       73     76      74\n",
       "                          20      73       76     76      76\n",
       "SD Huesca                 19      72       73     74      72\n",
       "Granada CF                20      75       75     76      75\n",
       "CA Osasuna                20      74       74     76      74\n",
       "RCD Mallorca              20      72       73     76      73"
      ]
     },
     "execution_count": 14,
     "metadata": {},
     "output_type": "execute_result"
    }
   ],
   "source": [
    "fifa_teams.dataframe()"
   ]
  },
  {
   "cell_type": "code",
   "execution_count": 48,
   "metadata": {},
   "outputs": [],
   "source": [
    "def makeDict(fifa_teams, universe):\n",
    "    teams = dict()\n",
    "    fifa = fifa_teams.teams.keys()\n",
    "    api_teams = universe.FixturesDF().home_team.unique()\n",
    "    for x in api_teams:\n",
    "        for k in fifa:\n",
    "            if x in k or k in x:\n",
    "                teams.update({x:k})\n",
    "    return teams"
   ]
  },
  {
   "cell_type": "code",
   "execution_count": 50,
   "metadata": {},
   "outputs": [],
   "source": [
    "api_to_fifa_teams = makeDict(fifa_teams, my_df)"
   ]
  },
  {
   "cell_type": "code",
   "execution_count": 51,
   "metadata": {},
   "outputs": [],
   "source": [
    "fixtures_df = my_df.FixturesDF()"
   ]
  },
  {
   "cell_type": "markdown",
   "metadata": {},
   "source": [
    "Due to the corona virus , Many of the matches has been postponed. As a result, they are still labeled as historical matches on the API server. Need to get rid of them."
   ]
  },
  {
   "cell_type": "code",
   "execution_count": 58,
   "metadata": {},
   "outputs": [],
   "source": [
    "fixtures_df = fixtures_df.loc[~(fixtures_df['home_score'].isna() | fixtures_df['away_score'].isna()),:].copy()\n",
    "fixtures_df['season'] = fixtures_df.apply(lambda x: x['season']+1, axis = 1)\n",
    "fixtures_df['season'] = fixtures_df['season'].apply(lambda x: x-2000)"
   ]
  },
  {
   "cell_type": "code",
   "execution_count": 60,
   "metadata": {},
   "outputs": [],
   "source": [
    "def setResult(row):\n",
    "    if row['home_score'] > row['away_score']:\n",
    "        return 0\n",
    "    elif row['home_score'] < row['away_score']:\n",
    "        return 2\n",
    "    else:\n",
    "        return 1"
   ]
  },
  {
   "cell_type": "code",
   "execution_count": 62,
   "metadata": {},
   "outputs": [],
   "source": [
    "fixtures_df['result'] = fixtures_df.apply(setResult, axis = 1)"
   ]
  },
  {
   "cell_type": "markdown",
   "metadata": {},
   "source": [
    "Now I will need to attach the ranks of each team to the dataframe and do some data cleaning. Some of the teams are missing so I'll just remove them. Leaving me with total of 891 matches after cleaning the dataset."
   ]
  },
  {
   "cell_type": "code",
   "execution_count": 202,
   "metadata": {},
   "outputs": [],
   "source": [
    "def retrieveTeamRankings(row, fifa_api_dict, fifa_teams):\n",
    "    fifa_teams = fifa_teams.teams\n",
    "    if row['home_team'] not in fifa_api_dict or row['away_team'] not in fifa_api_dict:\n",
    "        return ({'defense':-1,'midfield':-1,'attack':-1,'overall':-1},{'defense':-1,'midfield':-1,'attack':-1,'overall':-1})\n",
    "    home = fifa_api_dict[row['home_team']]\n",
    "    away = fifa_api_dict[row['away_team']]\n",
    "    season = row['season']\n",
    "    return fifa_teams[home][season], fifa_teams[away][season]"
   ]
  },
  {
   "cell_type": "code",
   "execution_count": 219,
   "metadata": {},
   "outputs": [],
   "source": [
    "home_away_ranks = fixtures_df.apply(retrieveTeamRankings, fifa_api_dict = api_to_fifa_teams, fifa_teams = fifa_teams, axis = 1)"
   ]
  },
  {
   "cell_type": "code",
   "execution_count": 220,
   "metadata": {},
   "outputs": [],
   "source": [
    "final = pd.concat([fixtures_df, test.apply(pd.Series)[0].apply(pd.Series), test.apply(pd.Series)[1].apply(pd.Series)], axis=1)"
   ]
  },
  {
   "cell_type": "code",
   "execution_count": 225,
   "metadata": {},
   "outputs": [],
   "source": [
    "cols = list(final.columns)"
   ]
  },
  {
   "cell_type": "code",
   "execution_count": 232,
   "metadata": {},
   "outputs": [],
   "source": [
    "cols[7:15] = ['defense_h','midfield_h','attack_h','overall_h','defense_a','midfield_a','attack_a','overall_a']\n",
    "final.columns = cols"
   ]
  },
  {
   "cell_type": "code",
   "execution_count": 248,
   "metadata": {},
   "outputs": [],
   "source": [
    "final = final.loc[~(final.iloc[:,7:15] == -1).any(axis = 1),:].copy()"
   ]
  },
  {
   "cell_type": "code",
   "execution_count": 256,
   "metadata": {},
   "outputs": [],
   "source": [
    "final = final.iloc[:,6:].applymap(lambda x: int(x))"
   ]
  },
  {
   "cell_type": "code",
   "execution_count": 262,
   "metadata": {},
   "outputs": [],
   "source": [
    "import tensorflow as tf\n",
    "from sklearn.model_selection import train_test_split"
   ]
  },
  {
   "cell_type": "code",
   "execution_count": 265,
   "metadata": {},
   "outputs": [],
   "source": [
    "X_train, X_test, y_train, y_test = train_test_split(final.iloc[:,1:], final.result, test_size = 0.05)"
   ]
  },
  {
   "cell_type": "code",
   "execution_count": 280,
   "metadata": {},
   "outputs": [],
   "source": [
    "from tensorflow.keras import Sequential\n",
    "from tensorflow.keras.layers import Dense\n",
    "from tensorflow import keras"
   ]
  },
  {
   "cell_type": "code",
   "execution_count": 299,
   "metadata": {},
   "outputs": [
    {
     "name": "stdout",
     "output_type": "stream",
     "text": [
      "Model: \"sequential_12\"\n",
      "_________________________________________________________________\n",
      "Layer (type)                 Output Shape              Param #   \n",
      "=================================================================\n",
      "dense_33 (Dense)             (None, 8)                 72        \n",
      "_________________________________________________________________\n",
      "dense_34 (Dense)             (None, 6)                 54        \n",
      "_________________________________________________________________\n",
      "dense_35 (Dense)             (None, 5)                 35        \n",
      "_________________________________________________________________\n",
      "dense_36 (Dense)             (None, 3)                 18        \n",
      "=================================================================\n",
      "Total params: 179\n",
      "Trainable params: 179\n",
      "Non-trainable params: 0\n",
      "_________________________________________________________________\n"
     ]
    }
   ],
   "source": [
    "model = Sequential()\n",
    "n_features = X_train.shape[1]\n",
    "\n",
    "model.add(Dense(8, input_shape = (n_features,)))\n",
    "model.add(Dense(6))\n",
    "model.add(Dense(5))\n",
    "model.add(Dense(3))\n",
    "\n",
    "opt = keras.optimizers.Adam(learning_rate=0.01)\n",
    "model.compile(loss='sparse_categorical_crossentropy', optimizer='sgd')\n",
    "    \n",
    "model.summary()"
   ]
  },
  {
   "cell_type": "code",
   "execution_count": 300,
   "metadata": {},
   "outputs": [
    {
     "data": {
      "text/plain": [
       "<tensorflow.python.keras.callbacks.History at 0x13678ad60>"
      ]
     },
     "execution_count": 300,
     "metadata": {},
     "output_type": "execute_result"
    }
   ],
   "source": [
    "model.fit(X_train, y_train, epochs = 150, verbose = 0, callbacks = [callback])"
   ]
  },
  {
   "cell_type": "code",
   "execution_count": 301,
   "metadata": {},
   "outputs": [
    {
     "name": "stdout",
     "output_type": "stream",
     "text": [
      "2/2 [==============================] - 0s 1ms/step - loss: 8.2381\n"
     ]
    },
    {
     "data": {
      "text/plain": [
       "8.238137245178223"
      ]
     },
     "execution_count": 301,
     "metadata": {},
     "output_type": "execute_result"
    }
   ],
   "source": [
    "model.evaluate(X_test, y_test)"
   ]
  },
  {
   "cell_type": "code",
   "execution_count": 302,
   "metadata": {},
   "outputs": [
    {
     "data": {
      "text/plain": [
       "array([[ 18.809875, -37.03372 , -33.641483]], dtype=float32)"
      ]
     },
     "execution_count": 302,
     "metadata": {},
     "output_type": "execute_result"
    }
   ],
   "source": [
    "model.predict([[81,88,89,85,75,82,81,82]])"
   ]
  },
  {
   "cell_type": "code",
   "execution_count": null,
   "metadata": {},
   "outputs": [],
   "source": []
  }
 ],
 "metadata": {
  "kernelspec": {
   "display_name": "Python 3",
   "language": "python",
   "name": "python3"
  },
  "language_info": {
   "codemirror_mode": {
    "name": "ipython",
    "version": 3
   },
   "file_extension": ".py",
   "mimetype": "text/x-python",
   "name": "python",
   "nbconvert_exporter": "python",
   "pygments_lexer": "ipython3",
   "version": "3.8.1"
  }
 },
 "nbformat": 4,
 "nbformat_minor": 4
}
